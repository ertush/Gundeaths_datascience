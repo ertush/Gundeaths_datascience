{
 "cells": [
  {
   "cell_type": "markdown",
   "metadata": {},
   "source": [
    "##  Exploring the first 5 rows of guns.csv"
   ]
  },
  {
   "cell_type": "code",
   "execution_count": 49,
   "metadata": {
    "collapsed": false
   },
   "outputs": [
    {
     "name": "stdout",
     "output_type": "stream",
     "text": [
      "['', 'year', 'month', 'intent', 'police', 'sex', 'age', 'race', 'hispanic', 'place', 'education']\n",
      "['1', '2012', '01', 'Suicide', '0', 'M', '34', 'Asian/Pacific Islander', '100', 'Home', '4']\n",
      "['2', '2012', '01', 'Suicide', '0', 'F', '21', 'White', '100', 'Street', '3']\n",
      "['3', '2012', '01', 'Suicide', '0', 'M', '60', 'White', '100', 'Other specified', '4']\n",
      "['4', '2012', '02', 'Suicide', '0', 'M', '64', 'White', '100', 'Home', '4']\n"
     ]
    },
    {
     "data": {
      "text/plain": [
       "[None, None, None, None, None]"
      ]
     },
     "execution_count": 49,
     "metadata": {},
     "output_type": "execute_result"
    }
   ],
   "source": [
    "import csv\n",
    "\n",
    "data = list(csv.reader(open(\"guns.csv\", \"r\")))\n",
    "\n",
    "[print (row) for row in data[:5]]\n"
   ]
  },
  {
   "cell_type": "markdown",
   "metadata": {},
   "source": [
    "##  Removing the Header row from the data set "
   ]
  },
  {
   "cell_type": "code",
   "execution_count": 50,
   "metadata": {
    "collapsed": false
   },
   "outputs": [
    {
     "name": "stdout",
     "output_type": "stream",
     "text": [
      "['1', '2012', '01', 'Suicide', '0', 'M', '34', 'Asian/Pacific Islander', '100', 'Home', '4']\n",
      "['2', '2012', '01', 'Suicide', '0', 'F', '21', 'White', '100', 'Street', '3']\n",
      "['3', '2012', '01', 'Suicide', '0', 'M', '60', 'White', '100', 'Other specified', '4']\n",
      "['4', '2012', '02', 'Suicide', '0', 'M', '64', 'White', '100', 'Home', '4']\n",
      "['5', '2012', '02', 'Suicide', '0', 'M', '31', 'White', '100', 'Other specified', '2']\n"
     ]
    },
    {
     "data": {
      "text/plain": [
       "[None, None, None, None, None]"
      ]
     },
     "execution_count": 50,
     "metadata": {},
     "output_type": "execute_result"
    }
   ],
   "source": [
    "\n",
    "data.pop(0)\n",
    "[print (row) for row in data[:5]]\n"
   ]
  },
  {
   "cell_type": "markdown",
   "metadata": {},
   "source": [
    "## Extracting number of fatalities by year"
   ]
  },
  {
   "cell_type": "raw",
   "metadata": {
    "collapsed": false
   },
   "source": [
    "years = [row[1] for row in data]\n",
    "\n",
    "year_counts = {}\n",
    "\n",
    "for year in years:\n",
    "    if year not in year_counts:\n",
    "        if not year.isalpha():\n",
    "            year_counts.setdefault(year, 1)\n",
    "        else:\n",
    "            pass\n",
    "    else:\n",
    "        year_counts[year] += 1\n",
    "        \n",
    "        \n",
    "print (year_counts)\n"
   ]
  },
  {
   "cell_type": "markdown",
   "metadata": {},
   "source": [
    "## Filtering date time to unique date time and counting "
   ]
  },
  {
   "cell_type": "code",
   "execution_count": 52,
   "metadata": {
    "collapsed": false,
    "scrolled": true
   },
   "outputs": [
    {
     "name": "stdout",
     "output_type": "stream",
     "text": [
      "2012-01-01 00:00:00\n",
      "2012-01-01 00:00:00\n",
      "2012-01-01 00:00:00\n",
      "2012-02-01 00:00:00\n",
      "2012-02-01 00:00:00\n",
      "36\n"
     ]
    }
   ],
   "source": [
    "import datetime \n",
    "\n",
    "\n",
    "dates = []\n",
    "[dates.append(datetime.datetime(year=int(row[1]), month=int(row[2]), day=1)) for row in data]\n",
    "    \n",
    "[print (date) for date in dates[:5]]\n",
    "\n",
    "unique_count = 0\n",
    "\n",
    "for date in set(dates):\n",
    "    unique_count += 1 \n",
    "    \n",
    "date_counts = unique_count\n",
    "\n",
    "print (date_counts)\n",
    "\n",
    "\n",
    "\n"
   ]
  },
  {
   "cell_type": "markdown",
   "metadata": {},
   "source": [
    "## Filtering fatalities by race"
   ]
  },
  {
   "cell_type": "code",
   "execution_count": 53,
   "metadata": {
    "collapsed": false
   },
   "outputs": [
    {
     "name": "stdout",
     "output_type": "stream",
     "text": [
      "{'White': 66237, 'Native American/Native Alaskan': 917, 'Black': 23296, 'Asian/Pacific Islander': 1325, 'Hispanic': 9022}\n",
      "{'M': 86348, 'F': 14449}\n"
     ]
    }
   ],
   "source": [
    "\n",
    "male_count = 0\n",
    "female_count = 0\n",
    "\n",
    "data.pop(0)\n",
    "sex_count = {}\n",
    "race_count = {}\n",
    "\n",
    "for row in data:\n",
    "    if row[5] not in sex_count:       \n",
    "        sex_count.setdefault(row[5], 1)\n",
    "    else:\n",
    "        sex_count[row[5]] += 1\n",
    "\n",
    "for row in data:\n",
    "    if row[7] not in race_count:\n",
    "        race_count.setdefault(row[7], 1)\n",
    "    else:\n",
    "        race_count[row[7]] += 1\n",
    "\n",
    "print (race_count)\n",
    "print (sex_count)\n",
    "\n",
    "    "
   ]
  },
  {
   "cell_type": "markdown",
   "metadata": {
    "collapsed": true
   },
   "source": [
    "The above code does the following;It extracts the first row of the dataset which is the header row;Counts all the occurences of fatalities in the unique years;Counts the number of  fatalities based on gender;Counts the number of fatalities based on race;Collects the date and time from the data set and sorts it into unique datetime and the counts them."
   ]
  },
  {
   "cell_type": "markdown",
   "metadata": {},
   "source": [
    "## Exploring the Census data"
   ]
  },
  {
   "cell_type": "code",
   "execution_count": 64,
   "metadata": {
    "collapsed": false
   },
   "outputs": [
    {
     "name": "stdout",
     "output_type": "stream",
     "text": [
      "[['Id', 'Year', 'Id', 'Sex', 'Id', 'Hispanic Origin', 'Id', 'Id2', 'Geography', 'Total', 'Race Alone - White', 'Race Alone - Hispanic', 'Race Alone - Black or African American', 'Race Alone - American Indian and Alaska Native', 'Race Alone - Asian', 'Race Alone - Native Hawaiian and Other Pacific Islander', 'Two or More Races'], ['cen42010', 'April 1, 2010 Census', 'totsex', 'Both Sexes', 'tothisp', 'Total', '0100000US', '', 'United States', '308745538', '197318956', '44618105', '40250635', '3739506', '15159516', '674625', '6984195']]\n"
     ]
    }
   ],
   "source": [
    "\n",
    "\n",
    "census = list(csv.reader(open(\"census.csv\", \"r\")))\n",
    "print (census)\n"
   ]
  },
  {
   "cell_type": "markdown",
   "metadata": {},
   "source": [
    "## Number of fatalities by race per 100K"
   ]
  },
  {
   "cell_type": "code",
   "execution_count": 63,
   "metadata": {
    "collapsed": false
   },
   "outputs": [
    {
     "name": "stdout",
     "output_type": "stream",
     "text": [
      "{'White': 4.572292588047142, 'Native American/Native Alaskan': 241.26181372619806, 'Black': 22.41455321139654, 'Asian/Pacific Islander': 56.97814614635552, 'Hispanic': 20.220491210910907}\n"
     ]
    }
   ],
   "source": [
    "mapping = {}\n",
    "\n",
    "race_l = []\n",
    "census_l = []\n",
    "\n",
    "for row in data:\n",
    "    race_l.append(row[7])\n",
    "race_l = list(set(race_l))\n",
    "\n",
    "for race_census in census[1]:\n",
    "    if race_census.isdigit():\n",
    "        census_l.append(race_census)\n",
    "        \n",
    "for race_data in race_l:\n",
    "    if race_data == 'Asian/Pacific Islander':\n",
    "        \n",
    "        mapping.setdefault(race_data, sum([int(census_l[5]), int(census_l[6])]))\n",
    "    elif race_data == 'Black':\n",
    "        \n",
    "        mapping.setdefault(race_data, int(census_l[3]))\n",
    "    elif race_data == 'Hispanic':\n",
    "        \n",
    "        mapping.setdefault(race_data, int(census_l[2]))\n",
    "    elif race_data == 'Native American/Native Alaskan':\n",
    "       \n",
    "        mapping.setdefault(race_data, int(census_l[4]))\n",
    "    else:\n",
    "        \n",
    "        mapping.setdefault(race_data, int(census_l[1]))\n",
    "                \n",
    "                    \n",
    "race_per_hundredk = {}\n",
    "\n",
    "for count in race_count:\n",
    "    for value in mapping:\n",
    "        race_per_hundredk[value] = ((race_count[count] / mapping[value]) * 100000)\n",
    "\n",
    "print (race_per_hundredk)\n",
    "        \n",
    "                \n",
    "                "
   ]
  },
  {
   "cell_type": "markdown",
   "metadata": {},
   "source": [
    "## Filtering data by intents "
   ]
  },
  {
   "cell_type": "code",
   "execution_count": 70,
   "metadata": {
    "collapsed": false
   },
   "outputs": [
    {
     "name": "stdout",
     "output_type": "stream",
     "text": [
      "{'White': 9148, 'Native American/Native Alaskan': 327, 'Black': 19511, 'Asian/Pacific Islander': 560, 'Hispanic': 5635}\n",
      "\n",
      "{'White': 4.572292588047142, 'Native American/Native Alaskan': 241.26181372619806, 'Black': 22.41455321139654, 'Asian/Pacific Islander': 56.97814614635552, 'Hispanic': 20.220491210910907}\n"
     ]
    }
   ],
   "source": [
    "intents, races = [], []\n",
    "[intents.append(intent[3]) for intent in data]\n",
    "[races.append(race[7]) for race in data]\n",
    "\n",
    "homicide_race_counts = {}\n",
    "\n",
    "for i, race in enumerate(races):\n",
    "    if intents[i] == \"Homicide\":\n",
    "        if race not in homicide_race_counts:\n",
    "            homicide_race_counts.setdefault(race, 1)\n",
    "        homicide_race_counts[race] += 1\n",
    "        \n",
    "print (homicide_race_counts)\n",
    "\n",
    "for count in homicide_race_counts:\n",
    "    for value in mapping:\n",
    "        race_per_hundredk[value] = ((race_count[count] / mapping[value]) * 100000)\n",
    "print (\"\\n{}\".format(race_per_hundredk))\n"
   ]
  },
  {
   "cell_type": "markdown",
   "metadata": {
    "collapsed": true
   },
   "source": [
    "As seen in the above code snipet it is clear that Native American/Native Alaskan recorded the most homicide deaths with a percentage of  241.261\n"
   ]
  },
  {
   "cell_type": "markdown",
   "metadata": {
    "collapsed": true
   },
   "source": [
    "## Findings"
   ]
  },
  {
   "cell_type": "markdown",
   "metadata": {},
   "source": [
    "It appears that gun related homicides in the US disproportionately affect people in the Black and Hispanic racial categories.\n",
    "\n",
    "Some areas to investigate further:\n",
    "\n",
    "* Homicide rate by gender\n",
    "* The rates of other intents by gender and race\n",
    "\n",
    "\n"
   ]
  },
  {
   "cell_type": "code",
   "execution_count": null,
   "metadata": {
    "collapsed": true
   },
   "outputs": [],
   "source": []
  }
 ],
 "metadata": {
  "kernelspec": {
   "display_name": "Python 3",
   "language": "python",
   "name": "python3"
  },
  "language_info": {
   "codemirror_mode": {
    "name": "ipython",
    "version": 3
   },
   "file_extension": ".py",
   "mimetype": "text/x-python",
   "name": "python",
   "nbconvert_exporter": "python",
   "pygments_lexer": "ipython3",
   "version": "3.4.3"
  }
 },
 "nbformat": 4,
 "nbformat_minor": 0
}
